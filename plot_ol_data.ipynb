{
 "cells": [
  {
   "cell_type": "code",
   "execution_count": 24,
   "metadata": {
    "collapsed": true
   },
   "outputs": [],
   "source": [
    "%matplotlib inline\n",
    "import matplotlib.pyplot as plt\n",
    "import numpy as np"
   ]
  },
  {
   "cell_type": "code",
   "execution_count": 25,
   "metadata": {
    "collapsed": true
   },
   "outputs": [],
   "source": [
    "data = np.loadtxt('ol_pulse_test_data.csv',delimiter=',')"
   ]
  },
  {
   "cell_type": "code",
   "execution_count": 26,
   "metadata": {
    "collapsed": false
   },
   "outputs": [
    {
     "data": {
      "text/plain": [
       "array([[  1.00000000e+00,   1.00000000e-02,   0.00000000e+00,\n",
       "          0.00000000e+00,   0.00000000e+00,   0.00000000e+00],\n",
       "       [  2.00000000e+00,   4.21000000e+00,   0.00000000e+00,\n",
       "          0.00000000e+00,   0.00000000e+00,   0.00000000e+00],\n",
       "       [  3.00000000e+00,   4.20000000e+00,   1.00000000e-02,\n",
       "          0.00000000e+00,   0.00000000e+00,   0.00000000e+00],\n",
       "       ..., \n",
       "       [  4.98000000e+02,   4.01000000e+00,   2.00000000e+00,\n",
       "          0.00000000e+00,   8.84000000e+02,   0.00000000e+00],\n",
       "       [  4.99000000e+02,   4.01000000e+00,   2.00000000e+00,\n",
       "          0.00000000e+00,   8.84000000e+02,   0.00000000e+00],\n",
       "       [  5.00000000e+02,   4.01000000e+00,   2.01000000e+00,\n",
       "          0.00000000e+00,   8.84000000e+02,   0.00000000e+00]])"
      ]
     },
     "execution_count": 26,
     "metadata": {},
     "output_type": "execute_result"
    }
   ],
   "source": [
    "data"
   ]
  },
  {
   "cell_type": "code",
   "execution_count": 27,
   "metadata": {
    "collapsed": false
   },
   "outputs": [
    {
     "data": {
      "text/plain": [
       "(500, 6)"
      ]
     },
     "execution_count": 27,
     "metadata": {},
     "output_type": "execute_result"
    }
   ],
   "source": [
    "data.shape"
   ]
  },
  {
   "cell_type": "code",
   "execution_count": 28,
   "metadata": {
    "collapsed": false
   },
   "outputs": [],
   "source": [
    "n, dt, t, thd, enc, pwm = data.T"
   ]
  },
  {
   "cell_type": "code",
   "execution_count": 29,
   "metadata": {
    "collapsed": false
   },
   "outputs": [
    {
     "data": {
      "text/plain": [
       "[<matplotlib.lines.Line2D at 0x109cf9438>]"
      ]
     },
     "execution_count": 29,
     "metadata": {},
     "output_type": "execute_result"
    },
    {
     "data": {
      "image/png": "[encoded data removed]",
      "text/plain": [
       "<matplotlib.figure.Figure at 0x109b9e4e0>"
      ]
     },
     "metadata": {},
     "output_type": "display_data"
    }
   ],
   "source": [
    "plt.plot(t,n)"
   ]
  },
  {
   "cell_type": "code",
   "execution_count": 30,
   "metadata": {
    "collapsed": false
   },
   "outputs": [
    {
     "data": {
      "text/plain": [
       "2.0099999999999998"
      ]
     },
     "execution_count": 30,
     "metadata": {},
     "output_type": "execute_result"
    }
   ],
   "source": [
    "t.max()"
   ]
  },
  {
   "cell_type": "code",
   "execution_count": 31,
   "metadata": {
    "collapsed": false
   },
   "outputs": [
    {
     "data": {
      "text/plain": [
       "[<matplotlib.lines.Line2D at 0x109e21eb8>]"
      ]
     },
     "execution_count": 31,
     "metadata": {},
     "output_type": "execute_result"
    },
    {
     "data": {
      "image/png": "[encoded data removed]",
      "text/plain": [
       "<matplotlib.figure.Figure at 0x109bbe8d0>"
      ]
     },
     "metadata": {},
     "output_type": "display_data"
    }
   ],
   "source": [
    "plt.plot(t,dt)"
   ]
  },
  {
   "cell_type": "code",
   "execution_count": 32,
   "metadata": {
    "collapsed": false
   },
   "outputs": [
    {
     "data": {
      "text/plain": [
       "[<matplotlib.lines.Line2D at 0x109f4dfd0>]"
      ]
     },
     "execution_count": 32,
     "metadata": {},
     "output_type": "execute_result"
    },
    {
     "data": {
      "image/png": "[encoded data removed]",
      "text/plain": [
       "<matplotlib.figure.Figure at 0x109e4c160>"
      ]
     },
     "metadata": {},
     "output_type": "display_data"
    }
   ],
   "source": [
    "plt.plot(t,thd)"
   ]
  },
  {
   "cell_type": "code",
   "execution_count": 33,
   "metadata": {
    "collapsed": false
   },
   "outputs": [
    {
     "data": {
      "text/plain": [
       "[<matplotlib.lines.Line2D at 0x10a07deb8>,\n",
       " <matplotlib.lines.Line2D at 0x10a085908>]"
      ]
     },
     "execution_count": 33,
     "metadata": {},
     "output_type": "execute_result"
    },
    {
     "data": {
      "image/png": "[encoded data removed]",
      "text/plain": [
       "<matplotlib.figure.Figure at 0x109f69400>"
      ]
     },
     "metadata": {},
     "output_type": "display_data"
    }
   ],
   "source": [
    "plt.plot(t,pwm,t,enc)"
   ]
  },
  {
   "cell_type": "code",
   "execution_count": 34,
   "metadata": {
    "collapsed": false
   },
   "outputs": [
    {
     "data": {
      "text/plain": [
       "array([   0.,    0.,    0.,    0.,    0.,    0.,    0.,    0.,    0.,\n",
       "          0.,    0.,    0.,    0.,    0.,    1.,    2.,    2.,    3.,\n",
       "          4.,    5.,    6.,    7.,    8.,    9.,   11.,   12.,   14.,\n",
       "         15.,   17.,   19.,   21.,   22.,   24.,   26.,   28.,   30.,\n",
       "         33.,   35.,   37.,   39.,   42.,   44.,   46.,   49.,   51.,\n",
       "         54.,   57.,   59.,   62.,   65.,   67.,   70.,   73.,   76.,\n",
       "         79.,   82.,   84.,   87.,   90.,   94.,   97.,  100.,  103.,\n",
       "        106.,  109.,  112.,  115.,  119.,  122.,  125.,  129.,  132.,\n",
       "        135.,  138.,  142.,  145.,  149.,  152.,  156.,  159.,  163.,\n",
       "        166.,  170.,  173.,  177.,  180.,  184.,  187.,  191.,  195.,\n",
       "        198.,  202.,  205.,  209.,  213.,  217.,  220.,  224.,  228.,\n",
       "        231.,  235.,  239.,  243.,  246.,  250.,  254.,  258.,  262.,\n",
       "        265.,  269.,  273.,  277.,  281.,  285.,  289.,  292.,  296.,\n",
       "        300.,  304.,  308.,  312.,  316.,  320.,  324.,  328.,  332.,\n",
       "        335.,  339.,  343.,  347.,  351.,  355.,  359.,  363.,  367.,\n",
       "        371.,  375.,  379.,  383.,  387.,  391.,  395.,  399.,  403.,\n",
       "        407.,  411.,  416.,  420.,  424.,  428.,  432.,  436.,  440.,\n",
       "        444.,  448.,  452.,  456.,  460.,  464.,  468.,  473.,  477.,\n",
       "        481.,  485.,  489.,  493.,  497.,  501.,  505.,  510.,  514.,\n",
       "        518.,  522.,  526.,  530.,  534.,  538.,  543.,  547.,  551.,\n",
       "        555.,  559.,  563.,  567.,  572.,  576.,  580.,  584.,  588.,\n",
       "        592.,  597.,  601.,  605.,  609.,  613.,  617.,  622.,  626.,\n",
       "        630.,  634.,  638.,  643.,  647.,  651.,  655.,  659.,  663.,\n",
       "        668.,  672.,  676.,  680.,  684.,  688.,  692.,  696.,  700.,\n",
       "        704.,  708.,  711.,  715.,  719.,  722.,  726.,  729.,  733.,\n",
       "        736.,  739.,  743.,  746.,  749.,  752.,  755.,  758.,  761.,\n",
       "        764.,  767.,  770.,  773.,  776.,  778.,  781.,  784.,  786.,\n",
       "        789.,  791.,  794.,  796.,  798.,  801.,  803.,  805.,  808.,\n",
       "        810.,  812.,  814.,  816.,  818.,  820.,  822.,  824.,  826.,\n",
       "        828.,  829.,  831.,  833.,  835.,  836.,  838.,  840.,  841.,\n",
       "        843.,  844.,  846.,  847.,  848.,  850.,  851.,  852.,  854.,\n",
       "        855.,  856.,  857.,  859.,  860.,  861.,  862.,  863.,  864.,\n",
       "        865.,  866.,  867.,  868.,  869.,  869.,  870.,  871.,  872.,\n",
       "        873.,  873.,  874.,  875.,  875.,  876.,  876.,  877.,  878.,\n",
       "        878.,  879.,  879.,  880.,  880.,  880.,  881.,  881.,  881.,\n",
       "        882.,  882.,  882.,  883.,  883.,  883.,  883.,  883.,  883.,\n",
       "        884.,  884.,  884.,  884.,  884.,  884.,  884.,  884.,  884.,\n",
       "        884.,  884.,  884.,  884.,  884.,  884.,  884.,  884.,  884.,\n",
       "        884.,  884.,  884.,  884.,  884.,  884.,  884.,  884.,  884.,\n",
       "        884.,  884.,  884.,  884.,  884.,  884.,  884.,  884.,  884.,\n",
       "        884.,  884.,  884.,  884.,  884.,  884.,  884.,  884.,  884.,\n",
       "        884.,  884.,  884.,  884.,  884.,  884.,  884.,  884.,  884.,\n",
       "        884.,  884.,  884.,  884.,  884.,  884.,  884.,  884.,  884.,\n",
       "        884.,  884.,  884.,  884.,  884.,  884.,  884.,  884.,  884.,\n",
       "        884.,  884.,  884.,  884.,  884.,  884.,  884.,  884.,  884.,\n",
       "        884.,  884.,  884.,  884.,  884.,  884.,  884.,  884.,  884.,\n",
       "        884.,  884.,  884.,  884.,  884.,  884.,  884.,  884.,  884.,\n",
       "        884.,  884.,  884.,  884.,  884.,  884.,  884.,  884.,  884.,\n",
       "        884.,  884.,  884.,  884.,  884.,  884.,  884.,  884.,  884.,\n",
       "        884.,  884.,  884.,  884.,  884.,  884.,  884.,  884.,  884.,\n",
       "        884.,  884.,  884.,  884.,  884.,  884.,  884.,  884.,  884.,\n",
       "        884.,  884.,  884.,  884.,  884.,  884.,  884.,  884.,  884.,\n",
       "        884.,  884.,  884.,  884.,  884.,  884.,  884.,  884.,  884.,\n",
       "        884.,  884.,  884.,  884.,  884.,  884.,  884.,  884.,  884.,\n",
       "        884.,  884.,  884.,  884.,  884.,  884.,  884.,  884.,  884.,\n",
       "        884.,  884.,  884.,  884.,  884.])"
      ]
     },
     "execution_count": 34,
     "metadata": {},
     "output_type": "execute_result"
    }
   ],
   "source": [
    "enc"
   ]
  },
  {
   "cell_type": "code",
   "execution_count": null,
   "metadata": {
    "collapsed": true
   },
   "outputs": [],
   "source": []
  }
 ],
 "metadata": {
  "kernelspec": {
   "display_name": "Python 3",
   "language": "python",
   "name": "python3"
  },
  "language_info": {
   "codemirror_mode": {
    "name": "ipython",
    "version": 3
   },
   "file_extension": ".py",
   "mimetype": "text/x-python",
   "name": "python",
   "nbconvert_exporter": "python",
   "pygments_lexer": "ipython3",
   "version": "3.5.2"
  }
 },
 "nbformat": 4,
 "nbformat_minor": 0
}
