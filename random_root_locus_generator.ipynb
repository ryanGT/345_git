{
 "cells": [
  {
   "cell_type": "code",
   "execution_count": 1,
   "metadata": {
    "collapsed": true
   },
   "outputs": [],
   "source": [
    "%matplotlib inline\n",
    "import matplotlib.pyplot as plt\n",
    "import numpy as np\n",
    "import control"
   ]
  },
  {
   "cell_type": "code",
   "execution_count": 2,
   "metadata": {
    "collapsed": false
   },
   "outputs": [],
   "source": [
    "rand = np.random.rand"
   ]
  },
  {
   "cell_type": "code",
   "execution_count": 3,
   "metadata": {
    "collapsed": true
   },
   "outputs": [],
   "source": [
    "def one_random_real(r=-10):\n",
    "    \"\"\"Generate one random real pole or zero with maximum radius r.  \n",
    "    If r is negative, the pole or zero will be stable or in the left half plane.\n",
    "    If r is positive, the pole will be unstable or the zero will be non-minimum phase\n",
    "    (i.e. in the right half plane)\"\"\"\n",
    "    return r*rand()"
   ]
  },
  {
   "cell_type": "code",
   "execution_count": 4,
   "metadata": {
    "collapsed": true
   },
   "outputs": [],
   "source": [
    "def random_real_poles(N):\n",
    "    \"\"\"Generate a list of random real poles, possibly including a pure integrator,\n",
    "    a pure double integrator, or one unstable pole\"\"\"\n",
    "    poles = []\n",
    "    nr = N# number of poles remaining to generate\n",
    "    \n",
    "    # decide if pure integrator or not and possibly pure double int\n",
    "    r1 = rand()\n",
    "    num_int = 0\n",
    "    #print('r1 = %0.4g' % r1)\n",
    "    if r1 < 0.3:\n",
    "        # at least one pure int\n",
    "        num_int = 1\n",
    "        if N > 1:\n",
    "            # possible double int\n",
    "            r2 = rand()\n",
    "            if r2 < 0.2:\n",
    "                num_int = 2\n",
    "                \n",
    "    if num_int > 0:\n",
    "        poles = [0]*num_int\n",
    "        nr = N-num_int\n",
    "        \n",
    "    if nr == 0:\n",
    "        #exit\n",
    "        return poles\n",
    "    \n",
    "    # decide if unstable pole is present\n",
    "    r_us = rand()\n",
    "    if r_us < 0.15:\n",
    "        # one unstable pole\n",
    "        p_us = one_random_real(r=5)\n",
    "        poles.append(p_us)\n",
    "        nr -= 1# decrement number of remaining poles\n",
    "        \n",
    "    if nr == 0:\n",
    "        #exit\n",
    "        return poles\n",
    "    \n",
    "    # generate remaining random, stable poles that are not \n",
    "    # pure integrators\n",
    "    \n",
    "    for i in range(nr):\n",
    "        p_i = one_random_real(r=-10)-0.5# shift 0.5 away from the origin for\n",
    "                                        # these poles so they avoid being nearly \n",
    "                                        # pure integrators\n",
    "        poles.append(p_i)\n",
    "        \n",
    "    return poles"
   ]
  },
  {
   "cell_type": "code",
   "execution_count": 5,
   "metadata": {
    "collapsed": false
   },
   "outputs": [
    {
     "data": {
      "text/plain": [
       "array([ 0. , -4.5, -1.5])"
      ]
     },
     "execution_count": 5,
     "metadata": {},
     "output_type": "execute_result"
    }
   ],
   "source": [
    "np.floor(np.array(random_real_poles(3))*2)*0.5"
   ]
  },
  {
   "cell_type": "code",
   "execution_count": 6,
   "metadata": {
    "collapsed": true
   },
   "outputs": [],
   "source": [
    "def random_poles():\n",
    "    \"\"\"Determine how many poles to include and generate \n",
    "    a random list of poles including the possibility of one\n",
    "    complex conjugate pair.\"\"\"\n",
    "    \n",
    "    # Number of poles\n",
    "    N = int(5*rand())+1# up to five poles\n",
    "    #print('N = %i' % N)\n",
    "    \n",
    "    r_c = rand()\n",
    "    if r_c < 0.4:\n",
    "        # yes, complex pair\n",
    "        wn = 10*rand()\n",
    "        z = 0.05 + 0.7*rand()\n",
    "        wd = wn*np.sqrt(1-z**2)\n",
    "        cp1 = -z*wn+1.0j*wd\n",
    "        cp2 = -z*wn-1.0j*wd\n",
    "        poles = [cp1,cp2]\n",
    "        if N == 1:\n",
    "            nr = 0# number of poles remaining to generate\n",
    "        else:\n",
    "            nr = N-2\n",
    "    else:\n",
    "        poles = []\n",
    "        nr = N\n",
    "        \n",
    "    if nr == 0:\n",
    "        #exit\n",
    "        return poles\n",
    "\n",
    "    #print('nr = %i' % nr)\n",
    "    real_poles = random_real_poles(nr)\n",
    "    real_poles2 = np.floor(np.array(real_poles)*2)*0.5\n",
    "    poles.extend(real_poles2)\n",
    "    \n",
    "    return poles"
   ]
  },
  {
   "cell_type": "code",
   "execution_count": 7,
   "metadata": {
    "collapsed": false
   },
   "outputs": [],
   "source": [
    "def random_zeros(poles):\n",
    "    \"\"\"Generate a random list of zeros.  The list may be empty if number\n",
    "    of zeros is 0.  Do not allow a pure integrator if there is a pure\n",
    "    integrator.  Do not allow a LHP zero if there is an unstable pole.\"\"\"\n",
    "    n = len(poles)# number of poles\n",
    "    m = int(n*rand())# number of zeros\n",
    "    zeros = []\n",
    "    nzr = m# number of zeros remaining to generate\n",
    "    \n",
    "    if m == 0:\n",
    "        #exit\n",
    "        return zeros\n",
    "    \n",
    "    if np.min(abs(np.array(poles))) > 0.3:\n",
    "        # allow pure differentiator only if there is not pure integrator\n",
    "        r_pd = rand()\n",
    "        if r_pd < 0.25:\n",
    "            zeros=[0]\n",
    "            nzr -= 1\n",
    "            \n",
    "    if nzr == 0:\n",
    "        #exit\n",
    "        return zeros\n",
    "    \n",
    "    if np.max(poles) <= 0:\n",
    "        # allow the possibility of a non-minimum phase (RHP) zero if \n",
    "        # none of the poles are unstable\n",
    "        r_nmp = rand()\n",
    "        if r_nmp < 0.25:\n",
    "            zero = one_random_real(r=5)\n",
    "            zeros.append(zero)\n",
    "            nzr -= 1\n",
    "            \n",
    "    if nzr == 0:\n",
    "        #exit\n",
    "        return zeros       \n",
    "    \n",
    "    for i in range(nzr):\n",
    "        z_i = one_random_real(r=-7)-0.5# shift 0.5 away from the origin for\n",
    "                                        # these poles so they avoid being nearly \n",
    "                                        # pure integrators\n",
    "        zeros.append(z_i)\n",
    "        \n",
    "    return zeros"
   ]
  },
  {
   "cell_type": "code",
   "execution_count": 8,
   "metadata": {
    "collapsed": false
   },
   "outputs": [],
   "source": [
    "def random_transfer_function():\n",
    "    \"\"\"Generate a random transfer function for root locus practice.\"\"\"\n",
    "    poles = random_poles()\n",
    "    zeros = random_zeros(poles)\n",
    "    zeros2 = np.floor(np.array(zeros)*2)*0.5\n",
    "    num = np.poly(zeros2)\n",
    "    den = np.poly(poles)\n",
    "    G = control.TransferFunction(num,den)\n",
    "    return G"
   ]
  },
  {
   "cell_type": "code",
   "execution_count": 23,
   "metadata": {
    "collapsed": false
   },
   "outputs": [
    {
     "data": {
      "text/plain": [
       "\n",
       "                      s\n",
       "----------------------------------------------\n",
       "s^5 + 19 s^4 + 137 s^3 + 473 s^2 + 786 s + 504"
      ]
     },
     "execution_count": 23,
     "metadata": {},
     "output_type": "execute_result"
    }
   ],
   "source": [
    "G = random_transfer_function()\n",
    "G"
   ]
  },
  {
   "cell_type": "code",
   "execution_count": 24,
   "metadata": {
    "collapsed": false
   },
   "outputs": [
    {
     "data": {
      "text/plain": [
       "(-20, 2)"
      ]
     },
     "execution_count": 24,
     "metadata": {},
     "output_type": "execute_result"
    },
    {
     "data": {
      "image/png": "[encoded data removed]",
      "text/plain": [
       "<matplotlib.figure.Figure at 0x110ee96a0>"
      ]
     },
     "metadata": {},
     "output_type": "display_data"
    }
   ],
   "source": [
    "kvect = np.logspace(-4,4,1000)\n",
    "out = control.root_locus(G,kvect)\n",
    "plt.xlim([-20,2])"
   ]
  },
  {
   "cell_type": "code",
   "execution_count": null,
   "metadata": {
    "collapsed": true
   },
   "outputs": [],
   "source": []
  }
 ],
 "metadata": {
  "kernelspec": {
   "display_name": "Python 3",
   "language": "python",
   "name": "python3"
  },
  "language_info": {
   "codemirror_mode": {
    "name": "ipython",
    "version": 3
   },
   "file_extension": ".py",
   "mimetype": "text/x-python",
   "name": "python",
   "nbconvert_exporter": "python",
   "pygments_lexer": "ipython3",
   "version": "3.5.2"
  }
 },
 "nbformat": 4,
 "nbformat_minor": 0
}
